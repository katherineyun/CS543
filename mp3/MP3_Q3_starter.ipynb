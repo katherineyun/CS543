{
 "cells": [
  {
   "cell_type": "markdown",
   "metadata": {},
   "source": [
    "# Single-View Geometry (Python)\n",
    "\n",
    "## Usage\n",
    "This code snippet provides an overall code structure and some interactive plot interfaces for the *Single-View Geometry* section of Assignment 3. In [main function](#Main-function), we outline the required functionalities step by step. Some of the functions which involves interactive plots are already provided, but [the rest](#Your-implementation) are left for you to implement.\n",
    "\n",
    "## Package installation\n",
    "- You will need [GUI backend](https://matplotlib.org/faq/usage_faq.html#what-is-a-backend) to enable interactive plots in `matplotlib`.\n",
    "- In this code, we use `tkinter` package. Installation instruction can be found [here](https://anaconda.org/anaconda/tk)."
   ]
  },
  {
   "cell_type": "markdown",
   "metadata": {},
   "source": [
    "# Common imports"
   ]
  },
  {
   "cell_type": "code",
   "execution_count": 1,
   "metadata": {},
   "outputs": [],
   "source": [
    "#%matplotlib tk\n",
    "import matplotlib.pyplot as plt\n",
    "import numpy as np\n",
    "import cv2\n",
    "import os\n",
    "\n",
    "from PIL import Image\n",
    "import pickle"
   ]
  },
  {
   "cell_type": "markdown",
   "metadata": {},
   "source": [
    "# Provided functions"
   ]
  },
  {
   "cell_type": "code",
   "execution_count": 2,
   "metadata": {},
   "outputs": [],
   "source": [
    "def get_input_lines(im, min_lines=3):\n",
    "    \"\"\"\n",
    "    Allows user to input line segments; computes centers and directions.\n",
    "    Inputs:\n",
    "        im: np.ndarray of shape (height, width, 3)\n",
    "        min_lines: minimum number of lines required\n",
    "    Returns:\n",
    "        n: number of lines from input\n",
    "        lines: np.ndarray of shape (3, n)\n",
    "            where each column denotes the parameters of the line equation\n",
    "        centers: np.ndarray of shape (3, n)\n",
    "            where each column denotes the homogeneous coordinates of the centers\n",
    "    \"\"\"\n",
    "    n = 0\n",
    "    lines = np.zeros((3, 0))\n",
    "    centers = np.zeros((3, 0))\n",
    "\n",
    "    plt.figure()\n",
    "    plt.imshow(im)\n",
    "    print('Set at least {} lines to compute vanishing point'.format(min_lines))\n",
    "    while True:\n",
    "        print('Click the two endpoints, use the right key to undo, and use the middle key to stop input')\n",
    "        clicked = plt.ginput(2, timeout=0, show_clicks=True)\n",
    "        if not clicked or len(clicked) < 2:\n",
    "            if n < min_lines:\n",
    "                print('Need at least {} lines, you have {} now'.format(min_lines, n))\n",
    "                continue\n",
    "            else:\n",
    "                # Stop getting lines if number of lines is enough\n",
    "                break\n",
    "\n",
    "        # Unpack user inputs and save as homogeneous coordinates\n",
    "        pt1 = np.array([clicked[0][0], clicked[0][1], 1])\n",
    "        pt2 = np.array([clicked[1][0], clicked[1][1], 1])\n",
    "        # Get line equation using cross product\n",
    "        # Line equation: line[0] * x + line[1] * y + line[2] = 0\n",
    "        line = np.cross(pt1, pt2)\n",
    "        lines = np.append(lines, line.reshape((3, 1)), axis=1)\n",
    "        # Get center coordinate of the line segment\n",
    "        center = (pt1 + pt2) / 2\n",
    "        centers = np.append(centers, center.reshape((3, 1)), axis=1)\n",
    "\n",
    "        # Plot line segment\n",
    "        plt.plot([pt1[0], pt2[0]], [pt1[1], pt2[1]], color='b')\n",
    "\n",
    "        n += 1\n",
    "\n",
    "    return n, lines, centers"
   ]
  },
  {
   "cell_type": "code",
   "execution_count": 3,
   "metadata": {},
   "outputs": [],
   "source": [
    "def plot_lines_and_vp(ax, im, lines, vp):\n",
    "    \"\"\"\n",
    "    Plots user-input lines and the calculated vanishing point.\n",
    "    Inputs:\n",
    "        im: np.ndarray of shape (height, width, 3)\n",
    "        lines: np.ndarray of shape (3, n)\n",
    "            where each column denotes the parameters of the line equation\n",
    "        vp: np.ndarray of shape (3, )\n",
    "    \"\"\"\n",
    "    bx1 = min(1, vp[0] / vp[2]) - 10\n",
    "    bx2 = max(im.shape[1], vp[0] / vp[2]) + 10\n",
    "    by1 = min(1, vp[1] / vp[2]) - 10\n",
    "    by2 = max(im.shape[0], vp[1] / vp[2]) + 10\n",
    "    \n",
    "    ax.imshow(im)\n",
    "    for i in range(lines.shape[1]):\n",
    "        if lines[0, i] < lines[1, i]:\n",
    "            pt1 = np.cross(np.array([1, 0, -bx1]), lines[:, i])\n",
    "            pt2 = np.cross(np.array([1, 0, -bx2]), lines[:, i])\n",
    "        else:\n",
    "            pt1 = np.cross(np.array([0, 1, -by1]), lines[:, i])\n",
    "            pt2 = np.cross(np.array([0, 1, -by2]), lines[:, i])\n",
    "        pt1 = pt1 / pt1[2]\n",
    "        pt2 = pt2 / pt2[2]\n",
    "        ax.plot([pt1[0], pt2[0]], [pt1[1], pt2[1]], 'g')\n",
    "\n",
    "    ax.plot(vp[0] / vp[2], vp[1] / vp[2], 'ro')\n",
    "    ax.set_xlim([bx1, bx2])\n",
    "    ax.set_ylim([by2, by1])"
   ]
  },
  {
   "cell_type": "markdown",
   "metadata": {},
   "source": [
    "# Your implementation"
   ]
  },
  {
   "cell_type": "code",
   "execution_count": 4,
   "metadata": {},
   "outputs": [],
   "source": [
    "def get_vanishing_point(lines):\n",
    "    \"\"\"\n",
    "    Solves for the vanishing point using the user-input lines.\n",
    "    \"\"\"\n",
    "    # <YOUR CODE>\n",
    "    pt1 = np.cross(lines[:, 0], lines[:, 1])/np.cross(lines[:, 0], lines[:, 1])[-1]\n",
    "    pt2 = np.cross(lines[:, 1], lines[:, 2])/np.cross(lines[:, 1], lines[:, 2])[-1]\n",
    "    pt3 = np.cross(lines[:, 0], lines[:, 2])/np.cross(lines[:, 0], lines[:, 2])[-1]\n",
    "    point = (pt1 + pt2 + pt3)/3\n",
    "    return point"
   ]
  },
  {
   "cell_type": "code",
   "execution_count": 5,
   "metadata": {},
   "outputs": [],
   "source": [
    "def get_horizon_line(vpts):\n",
    "    \"\"\"\n",
    "    Calculates the ground horizon line.\n",
    "    \"\"\"\n",
    "    # <YOUR CODE>\n",
    "    line = np.cross(vpts[:,1], vpts[:,0])\n",
    "    line = line/np.sqrt(line[0]**2 + line[1]**2)\n",
    "    return line"
   ]
  },
  {
   "cell_type": "code",
   "execution_count": 6,
   "metadata": {},
   "outputs": [],
   "source": [
    "def plot_horizon_line(img,horizon_line, vpts):#im, line):\n",
    "    \"\"\"\n",
    "    Plots the horizon line.\n",
    "    \"\"\"\n",
    "    pt1, pt2 = vpts[:, 0], vpts[:, 1]\n",
    "    plt.imshow(im)\n",
    "    plt.plot([pt1[0], pt2[0]], [pt1[1], pt2[1]], 'g')\n",
    "    plt.plot(pt1[0], pt1[1], 'ro')\n",
    "    plt.plot(pt2[0], pt2[1], 'ro')\n",
    "    plt.title('Horizon Line')\n",
    "    plt.show()\n",
    "    return\n"
   ]
  },
  {
   "cell_type": "code",
   "execution_count": 7,
   "metadata": {},
   "outputs": [],
   "source": [
    "def get_camera_parameters(vpts):\n",
    "    \"\"\"\n",
    "    Computes the camera parameters. Hint: The SymPy package is suitable for this.\n",
    "    \"\"\"\n",
    "    # <YOUR CODE>\n",
    "    f, u, v = sp.Symbol('f'),sp.Symbol('u'),sp.Symbol('v')\n",
    "    \n",
    "    K = sp.Matrix(((f, 0, u), (0, f, v), (0, 0, 1))).inv()\n",
    "    e1 = sp.Matrix(vpts[:, 0]).T * K.T * K* sp.Matrix(vpts[:, 1])\n",
    "    e2 = sp.Matrix(vpts[:, 0]).T * K.T * K* sp.Matrix(vpts[:, 2])\n",
    "    e3 = sp.Matrix(vpts[:, 1]).T * K.T * K* sp.Matrix(vpts[:, 2])\n",
    "    \n",
    "    sol = sp.solve([e1, e2, e3], [f, u, v])[0]\n",
    "    K = sp.Matrix(((sol[0],0,sol[1]),(0,sol[0],sol[2]), (0,0,1)))\n",
    "    return sol[0], sol[1], sol[2], K "
   ]
  },
  {
   "cell_type": "code",
   "execution_count": 8,
   "metadata": {},
   "outputs": [],
   "source": [
    "def get_rotation_matrix(K, vpts):\n",
    "    \"\"\"\n",
    "    Computes the rotation matrix using the camera parameters.\n",
    "    \"\"\"\n",
    "    \n",
    "    a = np.matmul(np.array(K.inv()).astype(np.float), vpts[:, 0])\n",
    "    b = np.matmul(np.array(K.inv()).astype(np.float), vpts[:, 1])\n",
    "    c = np.matmul(np.array(K.inv()).astype(np.float), vpts[:, 2])\n",
    "    a = (a/np.linalg.norm(a)).T.reshape(3,1)\n",
    "    b = (b/np.linalg.norm(b)).T.reshape(3,1)\n",
    "    c = (c/np.linalg.norm(c)).T.reshape(3,1)\n",
    "    R = np.concatenate((a,b,c)).reshape(3,3).T\n",
    "    return R"
   ]
  },
  {
   "cell_type": "code",
   "execution_count": 9,
   "metadata": {},
   "outputs": [],
   "source": [
    "def get_homography(K,Rf):\n",
    "    \"\"\"\n",
    "    Compute homography for transforming the image into fronto-parallel \n",
    "    views along the different axes.\n",
    "    \"\"\"\n",
    "    # <YOUR CODE>\n",
    "    \n",
    "    H = K*Rf*K.inv()\n",
    "    return H"
   ]
  },
  {
   "cell_type": "code",
   "execution_count": 10,
   "metadata": {},
   "outputs": [],
   "source": [
    "def get_rotation_matrix_rectification(K, vpts,u,v):\n",
    "    \"\"\"\n",
    "    Compute the rotation matrix that will be used to compute the \n",
    "    homography for rectification.\n",
    "    \"\"\"\n",
    "    vpts[:,2] = [u,v,1]\n",
    "    a = np.matmul(np.array(K.inv()).astype(np.float),vpts[:, 0])\n",
    "    b = np.matmul(np.array(K.inv()).astype(np.float), vpts[:, 1])\n",
    "    c = np.matmul(np.array(K.inv()).astype(np.float), vpts[:, 2])\n",
    "    a = (a/np.linalg.norm(a)).T.reshape(3,1)\n",
    "    b = (b/np.linalg.norm(b)).T.reshape(3,1)\n",
    "    c = (c/np.linalg.norm(c)).T.reshape(3,1)\n",
    "    R = np.concatenate((a,b,c)).reshape(3,3).T\n",
    "    return R"
   ]
  },
  {
   "cell_type": "markdown",
   "metadata": {},
   "source": [
    "# Main function"
   ]
  },
  {
   "cell_type": "code",
   "execution_count": 11,
   "metadata": {},
   "outputs": [],
   "source": [
    "im = np.asarray(Image.open('./data/Q3/eceb.png'))\n",
    "\n",
    "# Also loads the vanishing line data if it exists in data.pickle file. \n",
    "# data.pickle is written using snippet in the next cell.\n",
    "if os.path.exists('data.pickle'):\n",
    "    with open('data.pickle', 'rb') as f:\n",
    "        all_n, all_lines, all_centers = pickle.load(f, encoding='latin')\n",
    "    num_vpts = 3"
   ]
  },
  {
   "cell_type": "code",
   "execution_count": 12,
   "metadata": {},
   "outputs": [
    {
     "name": "stdout",
     "output_type": "stream",
     "text": [
      "[[6.79783058e+02 6.28281368e+03 1.00440486e+03]\n",
      " [2.30698890e+02 1.48572302e+02 3.54061952e+03]\n",
      " [1.00000000e+00 1.00000000e+00 1.00000000e+00]]\n"
     ]
    }
   ],
   "source": [
    "# Part (a)\n",
    "# Computing vanishing points for each of the directions\n",
    "vpts = np.zeros((3, num_vpts))\n",
    "\n",
    "for i in range(num_vpts):\n",
    "    #fig = plt.figure(); ax = fig.gca()\n",
    "    \n",
    "    # <YOUR CODE> Solve for vanishing point\n",
    "    vpts[:, i] = get_vanishing_point(all_lines[i])\n",
    "    \n",
    "    # Plot the lines and the vanishing point\n",
    "    #plot_lines_and_vp(ax, im, all_lines[i], vpts[:, i])\n",
    "    #fig.savefig('Q3_vp{:d}.pdf'.format(i), bbox_inches='tight')\n",
    "print(vpts)"
   ]
  },
  {
   "cell_type": "code",
   "execution_count": 13,
   "metadata": {},
   "outputs": [
    {
     "name": "stdout",
     "output_type": "stream",
     "text": [
      "[-1.46559554e-02 -9.99892596e-01  2.40636982e+02]\n"
     ]
    }
   ],
   "source": [
    "# Part (b) Computing and plotting the horizon\n",
    "# <YOUR CODE> Get the ground horizon line\n",
    "horizon_line = get_horizon_line(vpts)\n",
    "print(horizon_line)\n",
    "# # <YOUR CODE> Plot the ground horizon line\n",
    "# fig = plt.figure(); ax = fig.gca()\n",
    "# plot_horizon_line(im,horizon_line, vpts)#im,horizon_line)\n",
    "# fig.savefig('Q3_horizon.pdf', bbox_inches='tight')"
   ]
  },
  {
   "cell_type": "code",
   "execution_count": 14,
   "metadata": {},
   "outputs": [
    {
     "name": "stdout",
     "output_type": "stream",
     "text": [
      "962.334249004020 670.380474702450 -1128.66219621603 Matrix([[-1128.66219621603, 0, 962.334249004020], [0, -1128.66219621603, 670.380474702450], [0, 0, 1]])\n"
     ]
    }
   ],
   "source": [
    "# Part (c) Computing Camera Parameters\n",
    "# <YOUR CODE> Solve for the camera parameters (f, u, v)\n",
    "import sympy as sp\n",
    "f, u, v, K = get_camera_parameters(vpts)\n",
    "print(u, v, f, K)"
   ]
  },
  {
   "cell_type": "code",
   "execution_count": 15,
   "metadata": {},
   "outputs": [
    {
     "name": "stdout",
     "output_type": "stream",
     "text": [
      "[[ 0.22716807 -0.97376005 -0.01363952]\n",
      " [ 0.35349919  0.09550191 -0.93054699]\n",
      " [ 0.90743208  0.20656901  0.36591838]]\n"
     ]
    }
   ],
   "source": [
    "# Part (d) Computing Rotation Matrices\n",
    "# <YOUR CODE> Solve for the rotation matrix\n",
    "R = get_rotation_matrix(K, vpts)\n",
    "print(R)"
   ]
  },
  {
   "cell_type": "code",
   "execution_count": 16,
   "metadata": {},
   "outputs": [
    {
     "data": {
      "text/plain": [
       "array([6.28281368e+03, 1.48572302e+02, 1.00000000e+00])"
      ]
     },
     "execution_count": 16,
     "metadata": {},
     "output_type": "execute_result"
    }
   ],
   "source": [
    "vpts[:,1]"
   ]
  },
  {
   "cell_type": "code",
   "execution_count": 71,
   "metadata": {},
   "outputs": [
    {
     "name": "stdout",
     "output_type": "stream",
     "text": [
      "[[0 0 1]\n",
      " [1 0 0]\n",
      " [0 1 0]]\n",
      "Matrix([[0.816620098084167, -1.01197504019789, -321.662989593588], [0.805542829142291, 0.296774855944356, -1859.85798162821], [0.000862755969725248, -8.46151407737849e-5, -0.566966272632479]])\n"
     ]
    }
   ],
   "source": [
    "# Part (e) Generating fronto-parallel warps. Compute the \n",
    "# appropriate rotation to transform the world coordinates\n",
    "# such that the axis of projection becomes the world\n",
    "# X, Y and Z axes respectively. Use this rotation to estimate\n",
    "# a homography that will be used to compute the output view.\n",
    "# Apply the homography to generate the 3 fronto-parallel\n",
    "# views and save them.\n",
    "\n",
    "#Rt = get_rotation_matrix_rectification(K,vpts, u, v)\n",
    "Rt = np.array([[0,0,1],[1,0,0],[0,1,0]])\n",
    "print(Rt)\n",
    "Rf = np.matmul(Rt,np.linalg.inv(R))\n",
    "H = get_homography(K,Rf)\n",
    "print(H)"
   ]
  },
  {
   "cell_type": "code",
   "execution_count": 76,
   "metadata": {},
   "outputs": [
    {
     "data": {
      "text/plain": [
       "True"
      ]
     },
     "execution_count": 76,
     "metadata": {},
     "output_type": "execute_result"
    }
   ],
   "source": [
    "from skimage.transform import SimilarityTransform \n",
    "from skimage.transform import warp\n",
    "img = cv2.imread('./data/Q3/eceb.png', cv2.IMREAD_COLOR) \n",
    "H = np.array(H).astype(np.float64)\n",
    "im_dst = cv2.warpPerspective(img, H, (300,300))\n",
    "cv2.imwrite('Q3_im{:d}.jpg'.format(i), im_dst,\n",
    "            [int(cv2.IMWRITE_JPEG_QUALITY), 90])"
   ]
  },
  {
   "cell_type": "code",
   "execution_count": null,
   "metadata": {},
   "outputs": [],
   "source": []
  },
  {
   "cell_type": "code",
   "execution_count": null,
   "metadata": {},
   "outputs": [],
   "source": []
  }
 ],
 "metadata": {
  "kernelspec": {
   "display_name": "Python 3",
   "language": "python",
   "name": "python3"
  },
  "language_info": {
   "codemirror_mode": {
    "name": "ipython",
    "version": 3
   },
   "file_extension": ".py",
   "mimetype": "text/x-python",
   "name": "python",
   "nbconvert_exporter": "python",
   "pygments_lexer": "ipython3",
   "version": "3.7.4"
  }
 },
 "nbformat": 4,
 "nbformat_minor": 2
}
