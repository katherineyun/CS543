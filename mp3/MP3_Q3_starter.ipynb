{
 "cells": [
  {
   "cell_type": "markdown",
   "metadata": {},
   "source": [
    "# Single-View Geometry (Python)\n",
    "\n",
    "## Usage\n",
    "This code snippet provides an overall code structure and some interactive plot interfaces for the *Single-View Geometry* section of Assignment 3. In [main function](#Main-function), we outline the required functionalities step by step. Some of the functions which involves interactive plots are already provided, but [the rest](#Your-implementation) are left for you to implement.\n",
    "\n",
    "## Package installation\n",
    "- You will need [GUI backend](https://matplotlib.org/faq/usage_faq.html#what-is-a-backend) to enable interactive plots in `matplotlib`.\n",
    "- In this code, we use `tkinter` package. Installation instruction can be found [here](https://anaconda.org/anaconda/tk)."
   ]
  },
  {
   "cell_type": "markdown",
   "metadata": {},
   "source": [
    "# Common imports"
   ]
  },
  {
   "cell_type": "code",
   "execution_count": 16,
   "metadata": {},
   "outputs": [],
   "source": [
    "import matplotlib\n",
    "matplotlib.use(\"TkAgg\")\n",
    "from matplotlib import pyplot as plt\n",
    "import numpy as np\n",
    "import cv2\n",
    "import os\n",
    "import sympy as sp\n",
    "\n",
    "from PIL import Image\n",
    "import pickle"
   ]
  },
  {
   "cell_type": "markdown",
   "metadata": {},
   "source": [
    "# Provided functions"
   ]
  },
  {
   "cell_type": "code",
   "execution_count": 3,
   "metadata": {},
   "outputs": [],
   "source": [
    "def get_input_lines(im, min_lines=3):\n",
    "    \"\"\"\n",
    "    Allows user to input line segments; computes centers and directions.\n",
    "    Inputs:\n",
    "        im: np.ndarray of shape (height, width, 3)\n",
    "        min_lines: minimum number of lines required\n",
    "    Returns:\n",
    "        n: number of lines from input\n",
    "        lines: np.ndarray of shape (3, n)\n",
    "            where each column denotes the parameters of the line equation\n",
    "        centers: np.ndarray of shape (3, n)\n",
    "            where each column denotes the homogeneous coordinates of the centers\n",
    "    \"\"\"\n",
    "    n = 0\n",
    "    lines = np.zeros((3, 0))\n",
    "    centers = np.zeros((3, 0))\n",
    "\n",
    "    plt.figure()\n",
    "    plt.imshow(im)\n",
    "    print('Set at least {} lines to compute vanishing point'.format(min_lines))\n",
    "    while True:\n",
    "        print('Click the two endpoints, use the right key to undo, and use the middle key to stop input')\n",
    "        clicked = plt.ginput(2, timeout=0, show_clicks=True)\n",
    "        if not clicked or len(clicked) < 2:\n",
    "            if n < min_lines:\n",
    "                print('Need at least {} lines, you have {} now'.format(min_lines, n))\n",
    "                continue\n",
    "            else:\n",
    "                # Stop getting lines if number of lines is enough\n",
    "                break\n",
    "\n",
    "        # Unpack user inputs and save as homogeneous coordinates\n",
    "        pt1 = np.array([clicked[0][0], clicked[0][1], 1])\n",
    "        pt2 = np.array([clicked[1][0], clicked[1][1], 1])\n",
    "        # Get line equation using cross product\n",
    "        # Line equation: line[0] * x + line[1] * y + line[2] = 0\n",
    "        line = np.cross(pt1, pt2)\n",
    "        lines = np.append(lines, line.reshape((3, 1)), axis=1)\n",
    "        # Get center coordinate of the line segment\n",
    "        center = (pt1 + pt2) / 2\n",
    "        centers = np.append(centers, center.reshape((3, 1)), axis=1)\n",
    "\n",
    "        # Plot line segment\n",
    "        plt.plot([pt1[0], pt2[0]], [pt1[1], pt2[1]], color='b')\n",
    "\n",
    "        n += 1\n",
    "\n",
    "    return n, lines, centers"
   ]
  },
  {
   "cell_type": "code",
   "execution_count": 4,
   "metadata": {},
   "outputs": [],
   "source": [
    "def plot_lines_and_vp(ax, im, lines, vp):\n",
    "    \"\"\"\n",
    "    Plots user-input lines and the calculated vanishing point.\n",
    "    Inputs:\n",
    "        im: np.ndarray of shape (height, width, 3)\n",
    "        lines: np.ndarray of shape (3, n)\n",
    "            where each column denotes the parameters of the line equation\n",
    "        vp: np.ndarray of shape (3, )\n",
    "    \"\"\"\n",
    "    bx1 = min(1, vp[0] / vp[2]) - 10\n",
    "    bx2 = max(im.shape[1], vp[0] / vp[2]) + 10\n",
    "    by1 = min(1, vp[1] / vp[2]) - 10\n",
    "    by2 = max(im.shape[0], vp[1] / vp[2]) + 10\n",
    "    \n",
    "    ax.imshow(im)\n",
    "    for i in range(lines.shape[1]):\n",
    "        if lines[0, i] < lines[1, i]:\n",
    "            pt1 = np.cross(np.array([1, 0, -bx1]), lines[:, i])\n",
    "            pt2 = np.cross(np.array([1, 0, -bx2]), lines[:, i])\n",
    "        else:\n",
    "            pt1 = np.cross(np.array([0, 1, -by1]), lines[:, i])\n",
    "            pt2 = np.cross(np.array([0, 1, -by2]), lines[:, i])\n",
    "        pt1 = pt1 / pt1[2]\n",
    "        pt2 = pt2 / pt2[2]\n",
    "        ax.plot([pt1[0], pt2[0]], [pt1[1], pt2[1]], 'g')\n",
    "\n",
    "    ax.plot(vp[0] / vp[2], vp[1] / vp[2], 'ro')\n",
    "    ax.set_xlim([bx1, bx2])\n",
    "    ax.set_ylim([by2, by1])"
   ]
  },
  {
   "cell_type": "markdown",
   "metadata": {},
   "source": [
    "# Your implementation"
   ]
  },
  {
   "cell_type": "code",
   "execution_count": 10,
   "metadata": {},
   "outputs": [],
   "source": [
    "def get_vanishing_point(lines):\n",
    "    \"\"\"\n",
    "    Solves for the vanishing point using the user-input lines.\n",
    "    \"\"\"\n",
    "    # <YOUR CODE>\n",
    "#     pt1 = np.cross(lines[:, 0], lines[:, 1])/np.cross(lines[:, 0], lines[:, 1])[-1]\n",
    "#     pt2 = np.cross(lines[:, 1], lines[:, 2])/np.cross(lines[:, 1], lines[:, 2])[-1]\n",
    "#     pt3 = np.cross(lines[:, 0], lines[:, 2])/np.cross(lines[:, 0], lines[:, 2])[-1]\n",
    "#     point = (pt1 + pt2 + pt3)/3\n",
    "#     return point\n",
    "    second_moment = lines.dot(lines.T)\n",
    "    w, v = np.linalg.eig(second_moment)\n",
    "    # Find min eigenvalue and eigen vec.\n",
    "    min_idx = np.argmin(w)\n",
    "    vp = v[:, min_idx]\n",
    "    # Convert to homogeneous.\n",
    "    vp = vp / vp[-1]\n",
    "    return vp\n"
   ]
  },
  {
   "cell_type": "code",
   "execution_count": 6,
   "metadata": {},
   "outputs": [],
   "source": [
    "def get_horizon_line(vpts):\n",
    "    \"\"\"\n",
    "    Calculates the ground horizon line.\n",
    "    \"\"\"\n",
    "    # <YOUR CODE>\n",
    "    line = np.cross(vpts[:,0], vpts[:,2])\n",
    "    line = line/np.sqrt(line[0]**2 + line[1]**2)\n",
    "    return line"
   ]
  },
  {
   "cell_type": "code",
   "execution_count": 7,
   "metadata": {},
   "outputs": [],
   "source": [
    "def plot_horizon_line(im, vpts):#im, line):\n",
    "    \"\"\"\n",
    "    Plots the horizon line.\n",
    "    \"\"\"\n",
    "    pt1, pt2 = vpts[:, 0], vpts[:, 2]\n",
    "    plt.imshow(im)\n",
    "    plt.plot([pt1[0], pt2[0]], [pt1[1], pt2[1]], 'g')\n",
    "    plt.plot(pt1[0], pt1[1], 'ro')\n",
    "    plt.plot(pt2[0], pt2[1], 'ro')\n",
    "    plt.title('Horizon Line')\n",
    "    plt.show()\n",
    "    return\n",
    "    "
   ]
  },
  {
   "cell_type": "code",
   "execution_count": 32,
   "metadata": {},
   "outputs": [],
   "source": [
    "def get_camera_parameters(vpts):\n",
    "    \"\"\"\n",
    "    Computes the camera parameters. Hint: The SymPy package is suitable for this.\n",
    "    \"\"\"\n",
    "    # <YOUR CODE>\n",
    "    f, u, v = sp.Symbol('f'),sp.Symbol('u'),sp.Symbol('v')\n",
    "    \n",
    "    K = sp.Matrix(((f, 0, u), (0, f, v), (0, 0, 1))).inv()\n",
    "    e1 = sp.Matrix(vpts[:, 0]).T * K.T * K* sp.Matrix(vpts[:, 1])\n",
    "    e2 = sp.Matrix(vpts[:, 0]).T * K.T * K* sp.Matrix(vpts[:, 2])\n",
    "    e3 = sp.Matrix(vpts[:, 1]).T * K.T * K* sp.Matrix(vpts[:, 2])\n",
    "    \n",
    "    sol = sp.solve([e1, e2, e3], [f, u, v])[0]\n",
    "    K = sp.Matrix(((sol[0],0,sol[1]),(0,sol[0],sol[2]), (0,0,1)))\n",
    "    return sol[0], sol[1], sol[2], K "
   ]
  },
  {
   "cell_type": "code",
   "execution_count": 54,
   "metadata": {},
   "outputs": [],
   "source": [
    "def get_rotation_matrix(K, vpts):\n",
    "    \"\"\"\n",
    "    Computes the rotation matrix using the camera parameters.\n",
    "    \"\"\"\n",
    "    \n",
    "    a = np.matmul(np.array(K.inv()).astype(np.float), vpts[:, 1])\n",
    "    b = np.matmul(np.array(K.inv()).astype(np.float), vpts[:, 2])\n",
    "    c = np.matmul(np.array(K.inv()).astype(np.float), vpts[:, 0])\n",
    "    a = (a/np.linalg.norm(a)).T.reshape(3,1)\n",
    "    b = (b/np.linalg.norm(b)).T.reshape(3,1)\n",
    "    c = (c/np.linalg.norm(c)).T.reshape(3,1)\n",
    "    print(a,b)\n",
    "    R = np.concatenate((a,b,c)) \n",
    "    return R"
   ]
  },
  {
   "cell_type": "code",
   "execution_count": null,
   "metadata": {},
   "outputs": [],
   "source": [
    "def get_homography(...):\n",
    "    \"\"\"\n",
    "    Compute homography for transforming the image into fronto-parallel \n",
    "    views along the different axes.\n",
    "    \"\"\"\n",
    "    # <YOUR CODE>\n",
    "    pass"
   ]
  },
  {
   "cell_type": "code",
   "execution_count": null,
   "metadata": {},
   "outputs": [],
   "source": [
    "def get_rotation_matrix_rectification(...):\n",
    "    \"\"\"\n",
    "    Compute the rotation matrix that will be used to compute the \n",
    "    homography for rectification.\n",
    "    \"\"\"\n",
    "    # <YOUR CODE>\n",
    "    pass"
   ]
  },
  {
   "cell_type": "markdown",
   "metadata": {},
   "source": [
    "# Main function"
   ]
  },
  {
   "cell_type": "code",
   "execution_count": 8,
   "metadata": {},
   "outputs": [],
   "source": [
    "im = np.asarray(Image.open('./data/Q3/eceb.png'))\n",
    "\n",
    "# Also loads the vanishing line data if it exists in data.pickle file. \n",
    "# data.pickle is written using snippet in the next cell.\n",
    "if os.path.exists('data.pickle'):\n",
    "    with open('data.pickle', 'rb') as f:\n",
    "        all_n, all_lines, all_centers = pickle.load(f)"
   ]
  },
  {
   "cell_type": "code",
   "execution_count": 8,
   "metadata": {},
   "outputs": [],
   "source": [
    "# Click and save the line data for vanishing points. This snippet \n",
    "# opens up an interface for selecting points and writes them to \n",
    "# data.pickle file. The file is over-written.\n",
    "\n",
    "# num_vpts = 3\n",
    "# all_n, all_lines, all_centers = [], [], []\n",
    "\n",
    "# for i in range(num_vpts):\n",
    "#     print('Getting vanishing point {}'.format(i))\n",
    "#     fig = plt.figure(); ax = fig.gca()\n",
    "    \n",
    "#     # Get at least three lines from user input\n",
    "#     n_i, lines_i, centers_i = get_input_lines(im)\n",
    "#     all_n.append(n_i)\n",
    "#     all_lines.append(lines_i)\n",
    "#     all_centers.append(centers_i)\n",
    "\n",
    "# with open('data.pickle', 'wb') as f:\n",
    "#     pickle.dump([all_n, all_lines, all_centers], f)"
   ]
  },
  {
   "cell_type": "code",
   "execution_count": 9,
   "metadata": {},
   "outputs": [],
   "source": [
    "num_vpts = 3\n",
    "all_n = [3, 3, 3]\n",
    "all_lines = [np.array([[ 6.00984184e+01,  4.39180750e+01,  5.08525079e+01],\n",
    "       [ 3.55967555e+02,  2.61196972e+02,  2.38082196e+02],\n",
    "       [-4.43063561e+05, -3.03320106e+05, -3.57634299e+05]]), np.array([[-8.78361499e+01, -2.38082196e+02, -7.85902394e+01],\n",
    "       [-1.84918210e+01, -8.32131947e+01, -1.15573882e+01],\n",
    "       [ 1.52155917e+05,  5.22630321e+05,  1.21447527e+05]]), np.array([[  -97.08206047,   -94.77058284,  -143.31161307],\n",
    "       [  161.80343411,   194.16412093,   175.67229989],\n",
    "       [27282.92733661, 22302.86624441, 58494.79467975]])]\n",
    "all_centers = [np.array([[6.33235896e+02, 1.19145774e+03, 1.28391685e+03],\n",
    "       [1.13776404e+03, 9.60936005e+02, 1.22791167e+03],\n",
    "       [1.00000000e+00, 1.00000000e+00, 1.00000000e+00]]), np.array([[1.58325320e+03, 1.90454859e+03, 1.43647437e+03],\n",
    "       [7.07829205e+02, 8.31493258e+02, 7.40189892e+02],\n",
    "       [1.00000000e+00, 1.00000000e+00, 1.00000000e+00]]), np.array([[1.26426929e+03, 1.37059726e+03, 1.36366283e+03],\n",
    "       [5.89943846e+02, 5.54115943e+02, 7.79485012e+02],\n",
    "       [1.00000000e+00, 1.00000000e+00, 1.00000000e+00]])]"
   ]
  },
  {
   "cell_type": "code",
   "execution_count": 12,
   "metadata": {},
   "outputs": [],
   "source": [
    "# Part (a)\n",
    "# Computing vanishing points for each of the directions\n",
    "vpts = np.zeros((3, num_vpts))\n",
    "\n",
    "for i in range(num_vpts):\n",
    "    fig = plt.figure(); ax = fig.gca()\n",
    "    \n",
    "    # <YOUR CODE> Solve for vanishing point\n",
    "    vpts[:, i] = get_vanishing_point(all_lines[i])\n",
    "    \n",
    "    # Plot the lines and the vanishing point\n",
    "    plot_lines_and_vp(ax, im, all_lines[i], vpts[:, i])\n",
    "    fig.savefig('Q3_vp{:d}.pdf'.format(i), bbox_inches='tight')"
   ]
  },
  {
   "cell_type": "code",
   "execution_count": 13,
   "metadata": {},
   "outputs": [
    {
     "name": "stdout",
     "output_type": "stream",
     "text": [
      "[-2.82025858e-02 -9.99602228e-01  2.44012312e+02]\n"
     ]
    }
   ],
   "source": [
    "# Part (b) Computing and plotting the horizon\n",
    "# <YOUR CODE> Get the ground horizon line\n",
    "horizon_line = get_horizon_line(vpts)\n",
    "print(horizon_line)\n",
    "# # <YOUR CODE> Plot the ground horizon line\n",
    "# fig = plt.figure(); ax = fig.gca()\n",
    "# plot_horizon_line(vpts, im)#im,horizon_line)\n",
    "# fig.savefig('Q3_horizon.pdf', bbox_inches='tight')"
   ]
  },
  {
   "cell_type": "code",
   "execution_count": 33,
   "metadata": {},
   "outputs": [
    {
     "name": "stdout",
     "output_type": "stream",
     "text": [
      "988.162361304116 784.956622107543 -1184.74842687507 Matrix([[-1184.74842687507, 0, 988.162361304116], [0, -1184.74842687507, 784.956622107543], [0, 0, 1]])\n"
     ]
    }
   ],
   "source": [
    "# Part (c) Computing Camera Parameters\n",
    "# <YOUR CODE> Solve for the camera parameters (f, u, v)\n",
    "f, u, v, K = get_camera_parameters(vpts)\n",
    "print(u, v, f, K)"
   ]
  },
  {
   "cell_type": "code",
   "execution_count": 53,
   "metadata": {},
   "outputs": [
    {
     "name": "stdout",
     "output_type": "stream",
     "text": [
      "[-0.02542678 -0.9012174   0.4326207 ] [0.22876814 0.41603107 0.88010414]\n",
      "[-0.02542678 -0.9012174   0.4326207   0.22876814  0.41603107  0.88010414\n",
      " -0.97314882  0.12134804  0.1955915 ]\n"
     ]
    }
   ],
   "source": [
    "# Part (d) Computing Rotation Matrices\n",
    "# <YOUR CODE> Solve for the rotation matrix\n",
    "R = get_rotation_matrix(K, vpts)\n",
    "print(R)"
   ]
  },
  {
   "cell_type": "code",
   "execution_count": null,
   "metadata": {},
   "outputs": [],
   "source": [
    "# Part (e) Generating fronto-parallel warps. Compute the \n",
    "# appropriate rotation to transform the world coordinates\n",
    "# such that the axis of projection becomes the world\n",
    "# X, Y and Z axes respectively. Use this rotation to estimate\n",
    "# a homography that will be used to compute the output view.\n",
    "# Apply the homography to generate the 3 fronto-parallel\n",
    "# views and save them.\n",
    "\n",
    "Rt = get_rotation_matrix_rectification()\n",
    "H = get_homography()\n",
    "    \n",
    "fig = plt.figure(); ax = fig.gca()\n",
    "# cv2.imwrite('Q3_im{:d}.jpg'.format(i), im_dst,\n",
    "#             [int(cv2.IMWRITE_JPEG_QUALITY), 90])"
   ]
  }
 ],
 "metadata": {
  "kernelspec": {
   "display_name": "Python 3",
   "language": "python",
   "name": "python3"
  },
  "language_info": {
   "codemirror_mode": {
    "name": "ipython",
    "version": 3
   },
   "file_extension": ".py",
   "mimetype": "text/x-python",
   "name": "python",
   "nbconvert_exporter": "python",
   "pygments_lexer": "ipython3",
   "version": "3.7.4"
  }
 },
 "nbformat": 4,
 "nbformat_minor": 2
}
