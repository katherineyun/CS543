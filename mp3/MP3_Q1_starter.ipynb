{
 "cells": [
  {
   "cell_type": "markdown",
   "metadata": {},
   "source": [
    "# Image Stitching (Python)\n",
    "\n",
    "## Usage\n",
    "This code snippet provides an overall code structure and some interactive plot interfaces for the Stitching Pairs of Images section of MP 3. In main function, we outline the required functionalities step by step. Feel free to make modifications on the starter code if it's necessary.\n",
    "\n",
    "## Package installation\n",
    "- `opencv <= 3.4.2`\n",
    "- `numpy`\n",
    "- `skimage`\n",
    "- `scipy`"
   ]
  },
  {
   "cell_type": "markdown",
   "metadata": {},
   "source": [
    "# Common imports"
   ]
  },
  {
   "cell_type": "code",
   "execution_count": null,
   "metadata": {
    "scrolled": true
   },
   "outputs": [],
   "source": [
    "import numpy as np\n",
    "import skimage\n",
    "import cv2\n",
    "import matplotlib.pyplot as plt\n",
    "from scipy.spatial import distance\n",
    "from skimage import io\n",
    "import cv2.xfeatures2d\n",
    "import scipy\n",
    "from copy import copy, deepcopy\n",
    "from skimage.transform import ProjectiveTransform, warp"
   ]
  },
  {
   "cell_type": "markdown",
   "metadata": {},
   "source": [
    "# Helper functions"
   ]
  },
  {
   "cell_type": "code",
   "execution_count": null,
   "metadata": {},
   "outputs": [],
   "source": [
    "def imread(fname):\n",
    "    \"\"\"\n",
    "    read image into np array from file\n",
    "    \"\"\"\n",
    "    return skimage.io.imread(fname)\n",
    "\n",
    "def imread_bw(fname):\n",
    "    \"\"\"\n",
    "    read image as gray scale format\n",
    "    \"\"\"\n",
    "    return cv2.cvtColor(imread(fname), cv2.COLOR_BGR2GRAY)\n",
    "\n",
    "def imshow(img):\n",
    "    \"\"\"\n",
    "    show image\n",
    "    \"\"\"\n",
    "    skimage.io.imshow(img)\n",
    "    \n",
    "def get_sift_data(img):\n",
    "    \"\"\"\n",
    "    detect the keypoints and compute their SIFT descriptors with opencv library\n",
    "    \"\"\"\n",
    "    sift = cv2.xfeatures2d.SIFT_create()\n",
    "    kp, des = sift.detectAndCompute(img, None)\n",
    "    return kp, des\n",
    "\n",
    "def plot_inlier_matches(ax, img1, img2, inliers):\n",
    "    \"\"\"\n",
    "    plot the match between two image according to the matched keypoints\n",
    "    :param ax: plot handle\n",
    "    :param img1: left image\n",
    "    :param img2: right image\n",
    "    :inliers: x,y in the first image and x,y in the second image (Nx4)\n",
    "    \"\"\"\n",
    "    res = np.hstack([img1, img2])\n",
    "    ax.set_aspect('equal')\n",
    "    ax.imshow(res, cmap='gray')\n",
    "    \n",
    "    ax.plot(inliers[:,0], inliers[:,1], '+r')\n",
    "    ax.plot(inliers[:,2] + img1.shape[1], inliers[:,3], '+r')\n",
    "    ax.plot([inliers[:,0], inliers[:,2] + img1.shape[1]],\n",
    "            [inliers[:,1], inliers[:,3]], 'r', linewidth=0.4)\n",
    "    ax.axis('off')"
   ]
  },
  {
   "cell_type": "markdown",
   "metadata": {},
   "source": [
    "# Your implementations"
   ]
  },
  {
   "cell_type": "code",
   "execution_count": null,
   "metadata": {},
   "outputs": [],
   "source": [
    "def get_best_matches(img1, img2, num_matches):\n",
    "    kp1, des1 = get_sift_data(img1)\n",
    "    kp2, des2 = get_sift_data(img2)\n",
    "    kp1, kp2 = np.array(kp1), np.array(kp2)\n",
    "    \n",
    "    # Find distance between descriptors in images\n",
    "    dist = scipy.spatial.distance.cdist(des1, des2, 'sqeuclidean')\n",
    "    data = []\n",
    "    temp = deepcopy(dist)\n",
    "    dist = np.ravel(dist)\n",
    "    dist.sort() \n",
    "    for i in range(num_matches):\n",
    "        k, q = np.where(temp == dist[i])\n",
    "        this = []\n",
    "        this.append(int(kp1[k[0]].pt[0]))\n",
    "        this.append(int(kp1[k[0]].pt[1]))\n",
    "        this.append(int(kp2[q[0]].pt[0]))\n",
    "        this.append(int(kp2[q[0]].pt[1]))\n",
    "        data.append(this)\n",
    "    return data\n",
    "\n",
    "def compute_homography(matches):\n",
    "    \"\"\"\n",
    "    write your code to compute homography according to the matches\n",
    "    \"\"\"\n",
    "    A = np.zeros((8,9))\n",
    "    for i in range(4):\n",
    "        A[i*2,:] = [0, 0, 0, matches[i][0],matches[i][1], 1, -matches[i][3]*matches[i][0], -matches[i][3]*matches[i][1], -matches[i][3]*1]\n",
    "        A[i*2+1,:] = [matches[i][0], matches[i][1], 1, 0, 0, 0, -matches[i][2]*matches[i][0], -matches[i][2]*matches[i][1], -matches[i][2]*1]\n",
    "    U, S, V = np.linalg.svd(A)\n",
    "    H = V[-1,:].reshape(3, 3)\n",
    "    return H\n",
    "\n",
    "def ransac(data):\n",
    "    \"\"\"\n",
    "    write your ransac code to find the best model, inliers, and residuals\n",
    "    \"\"\"\n",
    "    #select 4 random matches\n",
    "    num_iter = 4000\n",
    "    best_num = 0\n",
    "    thres = 5\n",
    "    for ite in range(num_iter):\n",
    "        matches = []\n",
    "        for i in range(4):\n",
    "            k = np.random.randint(0,len(data))\n",
    "            matches.append(data[k])\n",
    "        H = compute_homography(matches)\n",
    "        if np.linalg.matrix_rank(H) < 3:\n",
    "            continue\n",
    "        one_col = np.ones((len(data),1))\n",
    "        left = np.concatenate((data[:,0:2], one_col), axis = 1)\n",
    "        right = np.concatenate((data[:,2:4], one_col), axis = 1)\n",
    "        inliers = []\n",
    "        total_error = 0\n",
    "        for i in range(len(data)):\n",
    "            temp = np.matmul(H, left[i])\n",
    "            temp = temp/temp[-1]\n",
    "            error = np.linalg.norm(temp - right[i])**2\n",
    "            if error < thres:\n",
    "                list0 = np.concatenate((left[i][0:2], right[i][0:2])).tolist()\n",
    "                inliers.append(list0)\n",
    "                total_error += error\n",
    "        if len(inliers) > best_num:\n",
    "            max_inliers = inliers.copy()\n",
    "            best_num = len(inliers)\n",
    "            best_H = H\n",
    "            best_model_errors = total_error/best_num\n",
    "    return max_inliers, best_model_errors, best_H"
   ]
  },
  {
   "cell_type": "code",
   "execution_count": null,
   "metadata": {},
   "outputs": [],
   "source": [
    "def warp_images(img1, img2, H): \n",
    "    trans1 = [[0, 0], [0, len(img1)], [len(img1[0]), len(img1)], [len(img1[0]), 0]]\n",
    "    trans2 = [[0, 0], [0, len(img2)], [len(img2[0]), len(img2)], [len(img2[0]), 0]] \n",
    "    transformed = ProjectiveTransform(trans1, H)\n",
    "    final = np.concatenate((transformed, trans1))\n",
    "    x_min, y_min = min(final[:,0]),min(final[:,1])\n",
    "    x_max, y_max = max(final[:,0]), max(final[:,1])\n",
    "    temp = [-xmin, -ymin]   \n",
    "    new_H = np.array([[1, 0, temp[0]], [0, 1, temp[1]], [0, 0, 1]]) \n",
    "    output = warp(img2, new_H.dot(H), (x_max-x_min, y_max-y_min))    \n",
    "    for i in range(len(img1)):\n",
    "        for j in range(len(img1[0])):\n",
    "            if temp[0]+j < result.shape[1] and temp[1]+i < result.shape[0]:\n",
    "                output[temp[1]+i,temp[0]+j, :] = result[t[1]+i, temp[0]+j, :] + img1[i, j, :]\n",
    "    return output"
   ]
  },
  {
   "cell_type": "markdown",
   "metadata": {},
   "source": [
    "# Main functions"
   ]
  },
  {
   "cell_type": "code",
   "execution_count": null,
   "metadata": {},
   "outputs": [],
   "source": [
    "# load images\n",
    "img1 = imread('./data/Q1/stitch/left.jpg')\n",
    "img2 = imread('./data/Q1/stitch/right.jpg')"
   ]
  },
  {
   "cell_type": "code",
   "execution_count": null,
   "metadata": {},
   "outputs": [],
   "source": [
    "# part (c) compute and display the initial SIFT matching result\n",
    "data = get_best_matches(img1, img2, 100)\n",
    "data = np.array(data)\n",
    "fig, ax = plt.subplots(figsize=(20,10))\n",
    "plot_inlier_matches(ax, img1, img2, data)\n",
    "fig.savefig('sift_match.pdf', bbox_inches='tight')"
   ]
  },
  {
   "cell_type": "code",
   "execution_count": null,
   "metadata": {},
   "outputs": [],
   "source": [
    "# part (d) performn RANSAC to get the homography and inliers, \n",
    "max_inliers, best_model_errors, best_H = ransac(data)\n",
    "# display the inlier matching, report the average residual\n",
    "print(\"Average residual:\", np.average(best_model_errors))\n",
    "print(\"Inliers:\", max_inliers)\n",
    "fig.savefig('ransac_match.pdf', bbox_inches='tight')"
   ]
  },
  {
   "cell_type": "code",
   "execution_count": null,
   "metadata": {},
   "outputs": [],
   "source": [
    "# part (e) warp images to stitch them together, \n",
    "# display and report the stitching results\n",
    "output = warp_images(img2, img1, best_H)\n",
    "plt.imshow(output)\n",
    "plt.title('Stitched Color Image')\n",
    "plt.savefig('./result/part1_stitched_colorimg.jpg')\n",
    "plt.show()\n",
    "cv2.imwrite('stitched_images.jpg', result[:,:,::-1]*255., \n",
    "            [int(cv2.IMWRITE_JPEG_QUALITY), 90])"
   ]
  },
  {
   "cell_type": "code",
   "execution_count": null,
   "metadata": {},
   "outputs": [],
   "source": []
  }
 ],
 "metadata": {
  "kernelspec": {
   "display_name": "Python 3",
   "language": "python",
   "name": "python3"
  },
  "language_info": {
   "codemirror_mode": {
    "name": "ipython",
    "version": 3
   },
   "file_extension": ".py",
   "mimetype": "text/x-python",
   "name": "python",
   "nbconvert_exporter": "python",
   "pygments_lexer": "ipython3",
   "version": "3.7.4"
  }
 },
 "nbformat": 4,
 "nbformat_minor": 2
}
